{
 "cells": [
  {
   "cell_type": "markdown",
   "metadata": {
    "slideshow": {
     "slide_type": "slide"
    }
   },
   "source": [
    "# Data Visualization with Modern Data Science\n",
    "\n",
    "> Analyzing Data with Tableau\n",
    "\n",
    "Kuo, Yao-Jen"
   ]
  },
  {
   "cell_type": "markdown",
   "metadata": {
    "slideshow": {
     "slide_type": "subslide"
    }
   },
   "source": [
    "## TL; DR\n",
    "\n",
    "> In this lecture, we will release Tableau's plotting capability and use calculated fields if current fields are unable to answer our questions."
   ]
  },
  {
   "cell_type": "markdown",
   "metadata": {
    "slideshow": {
     "slide_type": "slide"
    }
   },
   "source": [
    "## Creating More Plots with Tableau"
   ]
  },
  {
   "cell_type": "markdown",
   "metadata": {
    "slideshow": {
     "slide_type": "subslide"
    }
   },
   "source": [
    "## In the last chapter, we've created\n",
    "\n",
    "- Scatter to explore correlations\n",
    "- Histogram to explore distributions\n",
    "- Bar to explore rankings\n",
    "- Line to explore trends\n",
    "- Box to explore distributions based on categories"
   ]
  },
  {
   "cell_type": "markdown",
   "metadata": {
    "slideshow": {
     "slide_type": "subslide"
    }
   },
   "source": [
    "## In fact, we might confidently say that MOST(probably 87%?) of the exploratory analysis are done"
   ]
  },
  {
   "cell_type": "markdown",
   "metadata": {
    "slideshow": {
     "slide_type": "subslide"
    }
   },
   "source": [
    "## However, there are still plenty of plots that is often used for certain purposes"
   ]
  },
  {
   "cell_type": "markdown",
   "metadata": {
    "slideshow": {
     "slide_type": "subslide"
    }
   },
   "source": [
    "## Area works like line, but it involves the information of combinations"
   ]
  },
  {
   "cell_type": "markdown",
   "metadata": {
    "slideshow": {
     "slide_type": "subslide"
    }
   },
   "source": [
    "## Using area to explore trends and combination at the same time\n",
    "\n",
    "- Create another worksheet\n",
    "- Change `Year` data type to `Date`\n",
    "- Dragging `Year` onto Columns\n",
    "- Dragging `Pop` onto Rows\n",
    "- Dragging `Continent` to Color\n",
    "- Click Show Me then click **area charts(continuous)**"
   ]
  },
  {
   "cell_type": "markdown",
   "metadata": {
    "slideshow": {
     "slide_type": "subslide"
    }
   },
   "source": [
    "## Done with a simple area!\n",
    "\n",
    "![Imgur](https://i.imgur.com/TZdYCsJ.png?1)"
   ]
  },
  {
   "cell_type": "markdown",
   "metadata": {
    "slideshow": {
     "slide_type": "subslide"
    }
   },
   "source": [
    "## What are those (discrete), anyway?\n",
    "\n",
    "- lines(discrete)\n",
    "- area charts(discrete)"
   ]
  },
  {
   "cell_type": "markdown",
   "metadata": {
    "slideshow": {
     "slide_type": "subslide"
    }
   },
   "source": [
    "## These are designed for the date variables with YYYY-MM-DD information"
   ]
  },
  {
   "cell_type": "markdown",
   "metadata": {
    "slideshow": {
     "slide_type": "subslide"
    }
   },
   "source": [
    "## Take area charts(discrete) for a quick example\n",
    "\n",
    "Let's get a new data source.\n",
    "\n",
    "[Right click to download](https://python4ds.s3-ap-northeast-1.amazonaws.com/fang_volume.csv)"
   ]
  },
  {
   "cell_type": "markdown",
   "metadata": {
    "slideshow": {
     "slide_type": "subslide"
    }
   },
   "source": [
    "## Use Visual Studio Code to open `fang_volume.csv`\n",
    "\n",
    "![Imgur](https://i.imgur.com/NVnabMr.png?1)"
   ]
  },
  {
   "cell_type": "markdown",
   "metadata": {
    "slideshow": {
     "slide_type": "subslide"
    }
   },
   "source": [
    "## Adding a new data source to our workbook\n",
    "\n",
    "![Imgur](https://i.imgur.com/gPwnndk.png?1)"
   ]
  },
  {
   "cell_type": "markdown",
   "metadata": {
    "slideshow": {
     "slide_type": "subslide"
    }
   },
   "source": [
    "## Area(discrete) to explore trends and combination at the same time\n",
    "\n",
    "- Create another worksheet\n",
    "- Dragging `Date` onto Columns\n",
    "- Dragging `Volume` onto Rows\n",
    "- Dragging `Symbol` to Color\n",
    "- Click Show Me then click **area charts(discrete)**\n",
    "- Drill down `Date` variable"
   ]
  },
  {
   "cell_type": "markdown",
   "metadata": {
    "slideshow": {
     "slide_type": "subslide"
    }
   },
   "source": [
    "## Done with a simple area(discrete)!\n",
    "\n",
    "![Imgur](https://i.imgur.com/lCoFH8c.png?1)"
   ]
  },
  {
   "cell_type": "markdown",
   "metadata": {
    "slideshow": {
     "slide_type": "subslide"
    }
   },
   "source": [
    "## Bullet works like bar, but it involves comparison between 2 measures"
   ]
  },
  {
   "cell_type": "markdown",
   "metadata": {
    "slideshow": {
     "slide_type": "subslide"
    }
   },
   "source": [
    "## Get a summarized version of gapminder\n",
    "\n",
    "[Right click to download](https://python4ds.s3-ap-northeast-1.amazonaws.com/gapminder_pop_by_cont_year.csv)"
   ]
  },
  {
   "cell_type": "markdown",
   "metadata": {
    "slideshow": {
     "slide_type": "subslide"
    }
   },
   "source": [
    "## Use Visual Studio Code to open `gapminder_pop_by_cont_year.csv`\n",
    "\n",
    "![Imgur](https://i.imgur.com/7pDJCSo.png?1)"
   ]
  },
  {
   "cell_type": "markdown",
   "metadata": {
    "slideshow": {
     "slide_type": "subslide"
    }
   },
   "source": [
    "## Adding a new data source to our workbook\n",
    "\n",
    "![Imgur](https://i.imgur.com/gPwnndk.png?1)"
   ]
  },
  {
   "cell_type": "markdown",
   "metadata": {
    "slideshow": {
     "slide_type": "subslide"
    }
   },
   "source": [
    "## Check if the first row is treated as field names\n",
    "\n",
    "![Imgur](https://i.imgur.com/18vMAEb.png)"
   ]
  },
  {
   "cell_type": "markdown",
   "metadata": {
    "slideshow": {
     "slide_type": "subslide"
    }
   },
   "source": [
    "## Using bullet to explore the comparison between 2 measures\n",
    "\n",
    "- Create another worksheet\n",
    "- Dragging both `2002` and `2007` onto Columns\n",
    "- Dragging `Continent` onto Rows\n",
    "- Click Show Me then click **bullet graph**"
   ]
  },
  {
   "cell_type": "markdown",
   "metadata": {
    "slideshow": {
     "slide_type": "subslide"
    }
   },
   "source": [
    "## Done with a simple bullet!\n",
    "\n",
    "![Imgur](https://i.imgur.com/uwtM65F.png)"
   ]
  },
  {
   "cell_type": "markdown",
   "metadata": {
    "slideshow": {
     "slide_type": "subslide"
    }
   },
   "source": [
    "## To swap the two measures, right-click the axis and select Swap Reference Line Fields\n",
    "\n",
    "![Imgur](https://i.imgur.com/JVUTPy9.png?1)"
   ]
  },
  {
   "cell_type": "markdown",
   "metadata": {
    "slideshow": {
     "slide_type": "subslide"
    }
   },
   "source": [
    "## Circle views work like box"
   ]
  },
  {
   "cell_type": "markdown",
   "metadata": {
    "slideshow": {
     "slide_type": "subslide"
    }
   },
   "source": [
    "## Using circle views to explore distributions based on categories\n",
    "\n",
    "- Create another worksheet\n",
    "- Dragging `Continent` and `Country` onto Columns\n",
    "- Dragging `Gdp percap` onto Rows\n",
    "- Replacing Measure with Dimension\n",
    "- Dragging `Continent` onto Color"
   ]
  },
  {
   "cell_type": "markdown",
   "metadata": {
    "slideshow": {
     "slide_type": "subslide"
    }
   },
   "source": [
    "## Done with a simple circle views!\n",
    "\n",
    "![Imgur](https://i.imgur.com/5FaTQCN.png?1)"
   ]
  },
  {
   "cell_type": "markdown",
   "metadata": {
    "slideshow": {
     "slide_type": "subslide"
    }
   },
   "source": [
    "## Dual combination integrates a bar and a line with dual axis"
   ]
  },
  {
   "cell_type": "markdown",
   "metadata": {
    "slideshow": {
     "slide_type": "subslide"
    }
   },
   "source": [
    "## Using dual combination to explore trends with 2 measures\n",
    "\n",
    "- Create another worksheet\n",
    "- Dragging `Year` onto Columns\n",
    "- Dragging `Pop` and `Life Exp` onto Rows\n",
    "- Replacing the measure of `SUM(Life Exp)` with `AVG(Life Exp)`\n",
    "- Click Show Me then click **dual combination**\n",
    "- Adjust `SUM(Pop)` with bar, `AVG(Life Exp)` with line"
   ]
  },
  {
   "cell_type": "markdown",
   "metadata": {
    "slideshow": {
     "slide_type": "subslide"
    }
   },
   "source": [
    "## Done with a simple dual combination!\n",
    "\n",
    "![Imgur](https://i.imgur.com/llBcMSU.png?1)"
   ]
  },
  {
   "cell_type": "markdown",
   "metadata": {
    "slideshow": {
     "slide_type": "subslide"
    }
   },
   "source": [
    "## Dual line integrates 2 lines with dual axis"
   ]
  },
  {
   "cell_type": "markdown",
   "metadata": {
    "slideshow": {
     "slide_type": "subslide"
    }
   },
   "source": [
    "## Using dual line to explore trends with 2 measures\n",
    "\n",
    "- Create another worksheet\n",
    "- Dragging `Year` onto Columns\n",
    "- Dragging `Gdp Percap` and `Life Exp` onto Rows\n",
    "- Replacing the measure of `SUM()` with `AVG()`\n",
    "- Click Show Me then click **dual line**"
   ]
  },
  {
   "cell_type": "markdown",
   "metadata": {
    "slideshow": {
     "slide_type": "subslide"
    }
   },
   "source": [
    "## Done with a simple dual line!\n",
    "\n",
    "![Imgur](https://i.imgur.com/oSLjqE9.png?1)"
   ]
  },
  {
   "cell_type": "markdown",
   "metadata": {
    "slideshow": {
     "slide_type": "subslide"
    }
   },
   "source": [
    "## Heat maps works like scatter, but it is used to visualize patterns or trends in dense data with many overlapping marks particularly"
   ]
  },
  {
   "cell_type": "markdown",
   "metadata": {
    "slideshow": {
     "slide_type": "subslide"
    }
   },
   "source": [
    "## Using heat maps to explore correlation and the density of data points\n",
    "\n",
    "- Create another worksheet\n",
    "- Dragging `Gdp Percap` onto Columns\n",
    "- Dragging `Life Exp` onto Rows\n",
    "- Replacing Measure with Dimension\n",
    "- On the Marks card, select Density from the menu\n",
    "- Adjusting Color or Size for your preference"
   ]
  },
  {
   "cell_type": "markdown",
   "metadata": {
    "slideshow": {
     "slide_type": "subslide"
    }
   },
   "source": [
    "## Selecting Density from the menu\n",
    "\n",
    "![Imgur](https://i.imgur.com/EtXdWbw.png?1)"
   ]
  },
  {
   "cell_type": "markdown",
   "metadata": {
    "slideshow": {
     "slide_type": "subslide"
    }
   },
   "source": [
    "## Adjusting Color\n",
    "\n",
    "![Imgur](https://i.imgur.com/SnBhl6m.png?1)"
   ]
  },
  {
   "cell_type": "markdown",
   "metadata": {
    "slideshow": {
     "slide_type": "subslide"
    }
   },
   "source": [
    "## Adjusting Size\n",
    "\n",
    "![Imgur](https://i.imgur.com/FTFWomZ.png)"
   ]
  },
  {
   "cell_type": "markdown",
   "metadata": {
    "slideshow": {
     "slide_type": "subslide"
    }
   },
   "source": [
    "## Done with a simple heat map!\n",
    "\n",
    "![Imgur](https://i.imgur.com/iXEE5rY.png?1)"
   ]
  },
  {
   "cell_type": "markdown",
   "metadata": {
    "slideshow": {
     "slide_type": "subslide"
    }
   },
   "source": [
    "## Highlight tables are similar to heat maps in that they display data in various categories using different colors"
   ]
  },
  {
   "cell_type": "markdown",
   "metadata": {
    "slideshow": {
     "slide_type": "subslide"
    }
   },
   "source": [
    "## Using highlight tables to explore ranking\n",
    "\n",
    "- Create another worksheet\n",
    "- Dragging `Year` onto Columns\n",
    "- Dragging `Continent` and `Country` onto Rows\n",
    "- Dragging `Gdp Percap` onto Color"
   ]
  },
  {
   "cell_type": "markdown",
   "metadata": {
    "slideshow": {
     "slide_type": "subslide"
    }
   },
   "source": [
    "## Done with a simple highlight table!\n",
    "\n",
    "![Imgur](https://i.imgur.com/GUCgK3C.png?1)"
   ]
  },
  {
   "cell_type": "markdown",
   "metadata": {
    "slideshow": {
     "slide_type": "subslide"
    }
   },
   "source": [
    "## Packed bubble works like bar, but it involves a hierarchy feature and shows measure to with the size of the bubbles"
   ]
  },
  {
   "cell_type": "markdown",
   "metadata": {
    "slideshow": {
     "slide_type": "subslide"
    }
   },
   "source": [
    "## Using packed bubble to explore ranking\n",
    "\n",
    "- Create another worksheet\n",
    "- Creating a hierarchy variable with `Continent` and `Country`\n",
    "- Dragging `Continent, Country` onto Columns\n",
    "- Dragging `Pop` onto Rows\n",
    "- Click Show Me then click **packed bubbles**\n",
    "- Dragging `Year` onto Pages\n",
    "- Drilling down by clicking the plus sign next to `Continent`"
   ]
  },
  {
   "cell_type": "markdown",
   "metadata": {
    "slideshow": {
     "slide_type": "subslide"
    }
   },
   "source": [
    "## Creating a hierarchy variable with `Continent` and `Country`\n",
    "\n",
    "![Imgur](https://i.imgur.com/oT4TfqP.png)"
   ]
  },
  {
   "cell_type": "markdown",
   "metadata": {
    "slideshow": {
     "slide_type": "subslide"
    }
   },
   "source": [
    "## Drilling down by clicking the plus sign next to Continent\n",
    "\n",
    "![Imgur](https://i.imgur.com/SEWd75R.png?1)"
   ]
  },
  {
   "cell_type": "markdown",
   "metadata": {
    "slideshow": {
     "slide_type": "subslide"
    }
   },
   "source": [
    "## Done with a simple packed bubble!\n",
    "\n",
    "![Imgur](https://i.imgur.com/zFjEnKB.png?1)"
   ]
  },
  {
   "cell_type": "markdown",
   "metadata": {
    "slideshow": {
     "slide_type": "subslide"
    }
   },
   "source": [
    "## Pie works like bar, but it shows proportions at the same time"
   ]
  },
  {
   "cell_type": "markdown",
   "metadata": {
    "slideshow": {
     "slide_type": "subslide"
    }
   },
   "source": [
    "## Using pie to explore ranking and proportions\n",
    "\n",
    "- Create another worksheet\n",
    "- Dragging `Continent` onto Columns\n",
    "- Dragging `Pop` onto Rows\n",
    "- Click Show Me then click **pie charts**"
   ]
  },
  {
   "cell_type": "markdown",
   "metadata": {
    "slideshow": {
     "slide_type": "subslide"
    }
   },
   "source": [
    "## Done with a simple pie!\n",
    "\n",
    "![Imgur](https://i.imgur.com/3GWBMKS.png)"
   ]
  },
  {
   "cell_type": "markdown",
   "metadata": {
    "slideshow": {
     "slide_type": "subslide"
    }
   },
   "source": [
    "## Side-by-side bar works exactly like bar, but it involves comparison with another dimension"
   ]
  },
  {
   "cell_type": "markdown",
   "metadata": {
    "slideshow": {
     "slide_type": "subslide"
    }
   },
   "source": [
    "## Using side-by-side bar to explore ranking and comparison\n",
    "\n",
    "- Create another worksheet\n",
    "- Dragging `Year` and `Continent` onto Columns\n",
    "- Dragging `Pop` onto Rows\n",
    "- Dragging `Continent` onto Color\n",
    "- Click Show Me then click **side-by-side bars**"
   ]
  },
  {
   "cell_type": "markdown",
   "metadata": {
    "slideshow": {
     "slide_type": "subslide"
    }
   },
   "source": [
    "## Done with a simple side-by-side bar!\n",
    "\n",
    "![Imgur](https://i.imgur.com/roRhffi.png?1)"
   ]
  },
  {
   "cell_type": "markdown",
   "metadata": {
    "slideshow": {
     "slide_type": "subslide"
    }
   },
   "source": [
    "## Side-by-side circle views work exactly like circle views, but it involves comparison with another dimension"
   ]
  },
  {
   "cell_type": "markdown",
   "metadata": {
    "slideshow": {
     "slide_type": "subslide"
    }
   },
   "source": [
    "## Using side-by-side circle views to explore distributions based on categories\n",
    "\n",
    "- Create another worksheet\n",
    "- Dragging `Year` and `Continent` onto Columns\n",
    "- Dragging `Gdp Percap` onto Rows\n",
    "- Replacing Measure with Dimension\n",
    "- Dragging `Continent` onto Color\n",
    "- Click Show Me then click **side-by-side circles**"
   ]
  },
  {
   "cell_type": "markdown",
   "metadata": {
    "slideshow": {
     "slide_type": "subslide"
    }
   },
   "source": [
    "## Done with a simple side-by-side circle!\n",
    "\n",
    "![Imgur](https://i.imgur.com/oScaVFh.png?1)"
   ]
  },
  {
   "cell_type": "markdown",
   "metadata": {
    "slideshow": {
     "slide_type": "subslide"
    }
   },
   "source": [
    "## Stacked bar works exactly like bar, but it involves the contribution of individual elements"
   ]
  },
  {
   "cell_type": "markdown",
   "metadata": {
    "slideshow": {
     "slide_type": "subslide"
    }
   },
   "source": [
    "## Using stacked bar to explore ranking and composition\n",
    "\n",
    "- Create another worksheet\n",
    "- Dragging `Year` and `Continent` onto Columns\n",
    "- Dragging `Pop` onto Rows\n",
    "- Click Show Me then click **stacked bars**"
   ]
  },
  {
   "cell_type": "markdown",
   "metadata": {
    "slideshow": {
     "slide_type": "subslide"
    }
   },
   "source": [
    "## Done with a simple stacked bar!\n",
    "\n",
    "![Imgur](https://i.imgur.com/qKbRjjc.png?1)"
   ]
  },
  {
   "cell_type": "markdown",
   "metadata": {
    "slideshow": {
     "slide_type": "subslide"
    }
   },
   "source": [
    "## Text tables display values as numbers in a table(also called cross-tabs or pivot tables)"
   ]
  },
  {
   "cell_type": "markdown",
   "metadata": {
    "slideshow": {
     "slide_type": "subslide"
    }
   },
   "source": [
    "## Let's get a new data source.\n",
    "\n",
    "[Right click to download](https://python4ds.s3-ap-northeast-1.amazonaws.com/03-18-2020.csv)"
   ]
  },
  {
   "cell_type": "markdown",
   "metadata": {
    "slideshow": {
     "slide_type": "subslide"
    }
   },
   "source": [
    "## Use Visual Studio Code to open `03-18-2020.csv`\n",
    "\n",
    "![Imgur](https://i.imgur.com/LN37FFp.png?1)"
   ]
  },
  {
   "cell_type": "markdown",
   "metadata": {
    "slideshow": {
     "slide_type": "subslide"
    }
   },
   "source": [
    "## Adding a new data source to our workbook\n",
    "\n",
    "![Imgur](https://i.imgur.com/gPwnndk.png?1)"
   ]
  },
  {
   "cell_type": "markdown",
   "metadata": {
    "slideshow": {
     "slide_type": "subslide"
    }
   },
   "source": [
    "## Using text tables to explore summarized numbers in a table\n",
    "\n",
    "- Create another worksheet\n",
    "- Dragging `Confirmed`, `Deaths`, and `Recovered` onto Columns\n",
    "- Dragging `Country/Region` and `Province/State` onto Rows\n",
    "- Click Show Me then click **text table**"
   ]
  },
  {
   "cell_type": "markdown",
   "metadata": {
    "slideshow": {
     "slide_type": "subslide"
    }
   },
   "source": [
    "## Done with a simple text table!\n",
    "\n",
    "![Imgur](https://i.imgur.com/ESmuh0L.png?1)"
   ]
  },
  {
   "cell_type": "markdown",
   "metadata": {
    "slideshow": {
     "slide_type": "subslide"
    }
   },
   "source": [
    "## Treemap works like exactly like stacked bar"
   ]
  },
  {
   "cell_type": "markdown",
   "metadata": {
    "slideshow": {
     "slide_type": "subslide"
    }
   },
   "source": [
    "## Using treemap to explore ranking and composition\n",
    "\n",
    "- Create another worksheet\n",
    "- Dragging `Confirmed` onto Columns\n",
    "- Dragging the default hierarchy variable `Country/Region, Province/State` onto Rows\n",
    "- Click Show Me then click **treemaps**\n",
    "- Drilling down by clicking the plus sign next to `Country/Region, Province/State`"
   ]
  },
  {
   "cell_type": "markdown",
   "metadata": {
    "slideshow": {
     "slide_type": "subslide"
    }
   },
   "source": [
    "## Done with a simple treemap!\n",
    "\n",
    "![Imgur](https://i.imgur.com/cp5MBtp.png?1)"
   ]
  },
  {
   "cell_type": "markdown",
   "metadata": {
    "slideshow": {
     "slide_type": "subslide"
    }
   },
   "source": [
    "## Symbol map works like a text table, but it shows values on a geographical map"
   ]
  },
  {
   "cell_type": "markdown",
   "metadata": {
    "slideshow": {
     "slide_type": "subslide"
    }
   },
   "source": [
    "## Using symbol map to explore summarized numbers on a geographical map\n",
    "\n",
    "- Create another worksheet\n",
    "- Double-click `Province/State`\n",
    "- Dragging `Confirmed` onto Size\n",
    "- Drilling down and fold-up by clicking the plus sign next to `Country/Region, Province/State`"
   ]
  },
  {
   "cell_type": "markdown",
   "metadata": {
    "slideshow": {
     "slide_type": "subslide"
    }
   },
   "source": [
    "## Done with a simple symbol map!\n",
    "\n",
    "![Imgur](https://i.imgur.com/xf4FBtU.png?1)"
   ]
  },
  {
   "cell_type": "markdown",
   "metadata": {
    "slideshow": {
     "slide_type": "subslide"
    }
   },
   "source": [
    "## Filled map works like symbol map, but it uses a color gradient rather than size to represent the value\n",
    "\n",
    "Filled map is more commonly referenced as a polygon map."
   ]
  },
  {
   "cell_type": "markdown",
   "metadata": {
    "slideshow": {
     "slide_type": "subslide"
    }
   },
   "source": [
    "## Using filled map to explore summarized numbers on a geographical map\n",
    "\n",
    "- Create another worksheet\n",
    "- Double-click `Province/State`\n",
    "- Click the Marks drop-down and select Map\n",
    "- Dragging `Confirmed` onto Color\n",
    "- Drilling down and fold-up by clicking the plus sign next to `Country/Region, Province/State`"
   ]
  },
  {
   "cell_type": "markdown",
   "metadata": {
    "slideshow": {
     "slide_type": "subslide"
    }
   },
   "source": [
    "## Done with a simple filled map!\n",
    "\n",
    "![Imgur](https://i.imgur.com/UpQ3wde.png?1)"
   ]
  },
  {
   "cell_type": "markdown",
   "metadata": {
    "slideshow": {
     "slide_type": "subslide"
    }
   },
   "source": [
    "## A preview of the Python code we will write in near future"
   ]
  },
  {
   "cell_type": "code",
   "execution_count": 1,
   "metadata": {
    "slideshow": {
     "slide_type": "-"
    }
   },
   "outputs": [
    {
     "data": {
      "text/html": [
       "<div>\n",
       "<style scoped>\n",
       "    .dataframe tbody tr th:only-of-type {\n",
       "        vertical-align: middle;\n",
       "    }\n",
       "\n",
       "    .dataframe tbody tr th {\n",
       "        vertical-align: top;\n",
       "    }\n",
       "\n",
       "    .dataframe thead th {\n",
       "        text-align: right;\n",
       "    }\n",
       "</style>\n",
       "<table border=\"1\" class=\"dataframe\">\n",
       "  <thead>\n",
       "    <tr style=\"text-align: right;\">\n",
       "      <th></th>\n",
       "      <th>Province/State</th>\n",
       "      <th>Country/Region</th>\n",
       "      <th>Last Update</th>\n",
       "      <th>Confirmed</th>\n",
       "      <th>Deaths</th>\n",
       "      <th>Recovered</th>\n",
       "      <th>Latitude</th>\n",
       "      <th>Longitude</th>\n",
       "    </tr>\n",
       "  </thead>\n",
       "  <tbody>\n",
       "    <tr>\n",
       "      <td>0</td>\n",
       "      <td>Hubei</td>\n",
       "      <td>China</td>\n",
       "      <td>2020-03-18T12:13:09</td>\n",
       "      <td>67800</td>\n",
       "      <td>3122</td>\n",
       "      <td>56927</td>\n",
       "      <td>30.9756</td>\n",
       "      <td>112.2707</td>\n",
       "    </tr>\n",
       "    <tr>\n",
       "      <td>1</td>\n",
       "      <td>NaN</td>\n",
       "      <td>Italy</td>\n",
       "      <td>2020-03-18T17:33:05</td>\n",
       "      <td>35713</td>\n",
       "      <td>2978</td>\n",
       "      <td>4025</td>\n",
       "      <td>41.8719</td>\n",
       "      <td>12.5674</td>\n",
       "    </tr>\n",
       "    <tr>\n",
       "      <td>2</td>\n",
       "      <td>NaN</td>\n",
       "      <td>Iran</td>\n",
       "      <td>2020-03-18T12:33:02</td>\n",
       "      <td>17361</td>\n",
       "      <td>1135</td>\n",
       "      <td>5389</td>\n",
       "      <td>32.4279</td>\n",
       "      <td>53.6880</td>\n",
       "    </tr>\n",
       "    <tr>\n",
       "      <td>3</td>\n",
       "      <td>NaN</td>\n",
       "      <td>Spain</td>\n",
       "      <td>2020-03-18T13:13:13</td>\n",
       "      <td>13910</td>\n",
       "      <td>623</td>\n",
       "      <td>1081</td>\n",
       "      <td>40.4637</td>\n",
       "      <td>-3.7492</td>\n",
       "    </tr>\n",
       "    <tr>\n",
       "      <td>4</td>\n",
       "      <td>NaN</td>\n",
       "      <td>Germany</td>\n",
       "      <td>2020-03-18T19:33:02</td>\n",
       "      <td>12327</td>\n",
       "      <td>28</td>\n",
       "      <td>105</td>\n",
       "      <td>51.1657</td>\n",
       "      <td>10.4515</td>\n",
       "    </tr>\n",
       "  </tbody>\n",
       "</table>\n",
       "</div>"
      ],
      "text/plain": [
       "  Province/State Country/Region          Last Update  Confirmed  Deaths  \\\n",
       "0          Hubei          China  2020-03-18T12:13:09      67800    3122   \n",
       "1            NaN          Italy  2020-03-18T17:33:05      35713    2978   \n",
       "2            NaN           Iran  2020-03-18T12:33:02      17361    1135   \n",
       "3            NaN          Spain  2020-03-18T13:13:13      13910     623   \n",
       "4            NaN        Germany  2020-03-18T19:33:02      12327      28   \n",
       "\n",
       "   Recovered  Latitude  Longitude  \n",
       "0      56927   30.9756   112.2707  \n",
       "1       4025   41.8719    12.5674  \n",
       "2       5389   32.4279    53.6880  \n",
       "3       1081   40.4637    -3.7492  \n",
       "4        105   51.1657    10.4515  "
      ]
     },
     "execution_count": 1,
     "metadata": {},
     "output_type": "execute_result"
    }
   ],
   "source": [
    "from datetime import date, timedelta\n",
    "import pandas as pd\n",
    "\n",
    "# get daily covid-19 stats\n",
    "delta = timedelta(days=-1)\n",
    "yesterday = date.today() + delta\n",
    "# modify date format\n",
    "yesterday_str = yesterday.strftime(\"%m-%d-%Y\")\n",
    "csv_name = yesterday_str + \".csv\"\n",
    "csv_url = \"https://raw.githubusercontent.com/CSSEGISandData/COVID-19/master/csse_covid_19_data/csse_covid_19_daily_reports/{}\".format(csv_name)\n",
    "covid19_daily = pd.read_csv(csv_url)\n",
    "# Observe NaN in original data\n",
    "covid19_daily.head()"
   ]
  },
  {
   "cell_type": "code",
   "execution_count": 2,
   "metadata": {
    "slideshow": {
     "slide_type": "subslide"
    }
   },
   "outputs": [
    {
     "data": {
      "text/html": [
       "<div>\n",
       "<style scoped>\n",
       "    .dataframe tbody tr th:only-of-type {\n",
       "        vertical-align: middle;\n",
       "    }\n",
       "\n",
       "    .dataframe tbody tr th {\n",
       "        vertical-align: top;\n",
       "    }\n",
       "\n",
       "    .dataframe thead th {\n",
       "        text-align: right;\n",
       "    }\n",
       "</style>\n",
       "<table border=\"1\" class=\"dataframe\">\n",
       "  <thead>\n",
       "    <tr style=\"text-align: right;\">\n",
       "      <th></th>\n",
       "      <th>Province/State</th>\n",
       "      <th>Country/Region</th>\n",
       "      <th>Last Update</th>\n",
       "      <th>Confirmed</th>\n",
       "      <th>Deaths</th>\n",
       "      <th>Recovered</th>\n",
       "      <th>Latitude</th>\n",
       "      <th>Longitude</th>\n",
       "    </tr>\n",
       "  </thead>\n",
       "  <tbody>\n",
       "    <tr>\n",
       "      <td>0</td>\n",
       "      <td>Hubei</td>\n",
       "      <td>China</td>\n",
       "      <td>2020-03-18T12:13:09</td>\n",
       "      <td>67800</td>\n",
       "      <td>3122</td>\n",
       "      <td>56927</td>\n",
       "      <td>30.9756</td>\n",
       "      <td>112.2707</td>\n",
       "    </tr>\n",
       "    <tr>\n",
       "      <td>1</td>\n",
       "      <td>Italy</td>\n",
       "      <td>Italy</td>\n",
       "      <td>2020-03-18T17:33:05</td>\n",
       "      <td>35713</td>\n",
       "      <td>2978</td>\n",
       "      <td>4025</td>\n",
       "      <td>41.8719</td>\n",
       "      <td>12.5674</td>\n",
       "    </tr>\n",
       "    <tr>\n",
       "      <td>2</td>\n",
       "      <td>Iran</td>\n",
       "      <td>Iran</td>\n",
       "      <td>2020-03-18T12:33:02</td>\n",
       "      <td>17361</td>\n",
       "      <td>1135</td>\n",
       "      <td>5389</td>\n",
       "      <td>32.4279</td>\n",
       "      <td>53.6880</td>\n",
       "    </tr>\n",
       "    <tr>\n",
       "      <td>3</td>\n",
       "      <td>Spain</td>\n",
       "      <td>Spain</td>\n",
       "      <td>2020-03-18T13:13:13</td>\n",
       "      <td>13910</td>\n",
       "      <td>623</td>\n",
       "      <td>1081</td>\n",
       "      <td>40.4637</td>\n",
       "      <td>-3.7492</td>\n",
       "    </tr>\n",
       "    <tr>\n",
       "      <td>4</td>\n",
       "      <td>Germany</td>\n",
       "      <td>Germany</td>\n",
       "      <td>2020-03-18T19:33:02</td>\n",
       "      <td>12327</td>\n",
       "      <td>28</td>\n",
       "      <td>105</td>\n",
       "      <td>51.1657</td>\n",
       "      <td>10.4515</td>\n",
       "    </tr>\n",
       "  </tbody>\n",
       "</table>\n",
       "</div>"
      ],
      "text/plain": [
       "  Province/State Country/Region          Last Update  Confirmed  Deaths  \\\n",
       "0          Hubei          China  2020-03-18T12:13:09      67800    3122   \n",
       "1          Italy          Italy  2020-03-18T17:33:05      35713    2978   \n",
       "2           Iran           Iran  2020-03-18T12:33:02      17361    1135   \n",
       "3          Spain          Spain  2020-03-18T13:13:13      13910     623   \n",
       "4        Germany        Germany  2020-03-18T19:33:02      12327      28   \n",
       "\n",
       "   Recovered  Latitude  Longitude  \n",
       "0      56927   30.9756   112.2707  \n",
       "1       4025   41.8719    12.5674  \n",
       "2       5389   32.4279    53.6880  \n",
       "3       1081   40.4637    -3.7492  \n",
       "4        105   51.1657    10.4515  "
      ]
     },
     "execution_count": 2,
     "metadata": {},
     "output_type": "execute_result"
    }
   ],
   "source": [
    "# Replace NaN with Country/Region\n",
    "column_to_replace = \"Province/State\"\n",
    "province_state = [cr if pd.isna(ps) else ps for ps, cr in zip(covid19_daily[\"Province/State\"].values, covid19_daily[\"Country/Region\"].values)]\n",
    "covid19_daily = covid19_daily.drop(column_to_replace, axis=1)\n",
    "covid19_daily.insert(0, column_to_replace, province_state)\n",
    "covid19_daily.to_csv(csv_name, index=False)\n",
    "# Imputed data\n",
    "covid19_daily.head()"
   ]
  },
  {
   "cell_type": "markdown",
   "metadata": {
    "slideshow": {
     "slide_type": "slide"
    }
   },
   "source": [
    "## Creating Calculated Fields"
   ]
  },
  {
   "cell_type": "markdown",
   "metadata": {
    "slideshow": {
     "slide_type": "subslide"
    }
   },
   "source": [
    "## Why do we need to create calculated fields?\n",
    "\n",
    "Our underlying data may not include all of the fields we need to answer the questions."
   ]
  },
  {
   "cell_type": "markdown",
   "metadata": {
    "slideshow": {
     "slide_type": "subslide"
    }
   },
   "source": [
    "## What are calculated fields, anyway?\n",
    "\n",
    "We can create new fields in Tableau using calculations and then save them as part of the data source. These fields are called calculated fields."
   ]
  },
  {
   "cell_type": "markdown",
   "metadata": {
    "slideshow": {
     "slide_type": "subslide"
    }
   },
   "source": [
    "## When to use calculated fields?\n",
    "\n",
    "- To segment data\n",
    "- To convert the data type of a field\n",
    "- To aggregate data\n",
    "- To filter results\n",
    "- To calculate ratios\n",
    "- ...etc."
   ]
  },
  {
   "cell_type": "markdown",
   "metadata": {
    "slideshow": {
     "slide_type": "subslide"
    }
   },
   "source": [
    "## What are the types of calculations?\n",
    "\n",
    "- Basic calculations\n",
    "- Table calculations\n",
    "- Using functions"
   ]
  },
  {
   "cell_type": "markdown",
   "metadata": {
    "slideshow": {
     "slide_type": "subslide"
    }
   },
   "source": [
    "## Basic calculations allow us to transform values or members at\n",
    "\n",
    "- a row-level calculation\n",
    "- an aggregate calculation"
   ]
  },
  {
   "cell_type": "markdown",
   "metadata": {
    "slideshow": {
     "slide_type": "subslide"
    }
   },
   "source": [
    "## Let's do a quick row-level calculation\n",
    "\n",
    "- Use `03-18-2020` as data source\n",
    "- Analysis > Create Calculated Field\n",
    "- Enter a name for the calculated field with `Death Ratio` and a formula\n",
    "- Edit format to display percentage"
   ]
  },
  {
   "cell_type": "markdown",
   "metadata": {
    "slideshow": {
     "slide_type": "subslide"
    }
   },
   "source": [
    "## Analysis > Create Calculated Field\n",
    "\n",
    "![Imgur](https://i.imgur.com/PuuNC46.png)"
   ]
  },
  {
   "cell_type": "markdown",
   "metadata": {
    "slideshow": {
     "slide_type": "subslide"
    }
   },
   "source": [
    "## Enter a name for the calculated field with `Death Ratio` and a formula\n",
    "\n",
    "![Imgur](https://i.imgur.com/X62KALk.png)"
   ]
  },
  {
   "cell_type": "markdown",
   "metadata": {
    "slideshow": {
     "slide_type": "subslide"
    }
   },
   "source": [
    "## Edit format to display percentage\n",
    "\n",
    "![Imgur](https://i.imgur.com/8RsaLT1.png?1)"
   ]
  },
  {
   "cell_type": "markdown",
   "metadata": {
    "slideshow": {
     "slide_type": "subslide"
    }
   },
   "source": [
    "## Done with a row-level calculation!\n",
    "\n",
    "![Imgur](https://i.imgur.com/jslCel2.png?1)"
   ]
  },
  {
   "cell_type": "markdown",
   "metadata": {
    "slideshow": {
     "slide_type": "subslide"
    }
   },
   "source": [
    "## Let's do another quick aggregate calculation\n",
    "\n",
    "- Use `03-18-2020` as data source\n",
    "- Analysis > Create Calculated Field\n",
    "- Enter a name for the calculated field with `Aggregate Death Ratio` and a formula\n",
    "- Edit format to display percentage"
   ]
  },
  {
   "cell_type": "markdown",
   "metadata": {
    "slideshow": {
     "slide_type": "subslide"
    }
   },
   "source": [
    "## Analysis > Create Calculated Field\n",
    "\n",
    "![Imgur](https://i.imgur.com/PuuNC46.png)"
   ]
  },
  {
   "cell_type": "markdown",
   "metadata": {
    "slideshow": {
     "slide_type": "subslide"
    }
   },
   "source": [
    "## Enter a name for the calculated field with `Aggregate Death Ratio` and a formula\n",
    "\n",
    "![Imgur](https://i.imgur.com/21bg4Ws.png)"
   ]
  },
  {
   "cell_type": "markdown",
   "metadata": {
    "slideshow": {
     "slide_type": "subslide"
    }
   },
   "source": [
    "## Edit format to display percentage\n",
    "\n",
    "![Imgur](https://i.imgur.com/8RsaLT1.png?1)"
   ]
  },
  {
   "cell_type": "markdown",
   "metadata": {
    "slideshow": {
     "slide_type": "subslide"
    }
   },
   "source": [
    "## Done with an aggregate calculation!\n",
    "\n",
    "![Imgur](https://i.imgur.com/Twmj1Wz.png?1)"
   ]
  },
  {
   "cell_type": "markdown",
   "metadata": {
    "slideshow": {
     "slide_type": "subslide"
    }
   },
   "source": [
    "## Table calculations are calculated based on what is currently in the visualization and do not consider any measures or dimensions that are filtered out of the visualization"
   ]
  },
  {
   "cell_type": "markdown",
   "metadata": {
    "slideshow": {
     "slide_type": "subslide"
    }
   },
   "source": [
    "## Let's do a quick table calculations\n",
    "\n",
    "- Use `03-18-2020` as data source\n",
    "- Dragging `Confirmed` onto Columns\n",
    "- Dragging `Country/Region` onto Rows\n",
    "- Click on `SUM(Confirmed)` > Quick Table Calculation > Percent of Total"
   ]
  },
  {
   "cell_type": "markdown",
   "metadata": {
    "slideshow": {
     "slide_type": "subslide"
    }
   },
   "source": [
    "## Click on `SUM(Confirmed)` > Quick Table Calculation > Percent of Total\n",
    "\n",
    "![Imgur](https://i.imgur.com/27SsdXQ.png?1)"
   ]
  },
  {
   "cell_type": "markdown",
   "metadata": {
    "slideshow": {
     "slide_type": "subslide"
    }
   },
   "source": [
    "## Done with a simple table calculation!\n",
    "\n",
    "![Imgur](https://i.imgur.com/Op9bKGz.png?1)"
   ]
  },
  {
   "cell_type": "markdown",
   "metadata": {
    "slideshow": {
     "slide_type": "subslide"
    }
   },
   "source": [
    "## The building blocks of writing formula of calculated fields\n",
    "\n",
    "- Functions\n",
    "- Fields\n",
    "- Operators\n",
    "- Constants"
   ]
  },
  {
   "cell_type": "markdown",
   "metadata": {
    "slideshow": {
     "slide_type": "subslide"
    }
   },
   "source": [
    "## Using functions when creating calculated fields helps a lot\n",
    "\n",
    "Statements used to transform the values or members in a field."
   ]
  },
  {
   "cell_type": "markdown",
   "metadata": {
    "slideshow": {
     "slide_type": "subslide"
    }
   },
   "source": [
    "## Tableau supports many functions including\n",
    "\n",
    "- Universal Functions\n",
    "    - [Number Functions](https://help.tableau.com/current/pro/desktop/en-us/functions_functions_number.htm)\n",
    "    - [String Functions](https://help.tableau.com/current/pro/desktop/en-us/functions_functions_string.htm)\n",
    "    - [Date Functions](https://help.tableau.com/current/pro/desktop/en-us/functions_functions_date.htm)\n",
    "    - [Type Conversion](https://help.tableau.com/current/pro/desktop/en-us/functions_functions_typeconversion.htm)\n",
    "    - [Logical Functions](https://help.tableau.com/current/pro/desktop/en-us/functions_functions_logical.htm)\n",
    "    - ...etc.\n",
    "- [Aggregate Functions](https://help.tableau.com/current/pro/desktop/en-us/calculations_calculatedfields_aggregate_create.htm)"
   ]
  },
  {
   "cell_type": "markdown",
   "metadata": {
    "slideshow": {
     "slide_type": "subslide"
    }
   },
   "source": [
    "## Function syntax\n",
    "\n",
    "```\n",
    "FUNCTION_NAME(expression)\n",
    "```"
   ]
  },
  {
   "cell_type": "markdown",
   "metadata": {
    "slideshow": {
     "slide_type": "subslide"
    }
   },
   "source": [
    "## Field in a formula is often surrounded by brackets `[]`"
   ]
  },
  {
   "cell_type": "markdown",
   "metadata": {
    "slideshow": {
     "slide_type": "subslide"
    }
   },
   "source": [
    "## Fields syntax\n",
    "\n",
    "```\n",
    "[Field Name]\n",
    "```"
   ]
  },
  {
   "cell_type": "markdown",
   "metadata": {
    "slideshow": {
     "slide_type": "subslide"
    }
   },
   "source": [
    "## Operators are symbols that denote an operation"
   ]
  },
  {
   "cell_type": "markdown",
   "metadata": {
    "slideshow": {
     "slide_type": "subslide"
    }
   },
   "source": [
    "## Operators we can use in Tableau\n",
    "\n",
    "```\n",
    "+, -, *, /, %, ==, =, >, <, >=, <=, !=, <>, ^, AND, OR, NOT, ( )\n",
    "```\n",
    "\n",
    "Source: <https://help.tableau.com/current/pro/desktop/en-us/functions_operators.htm#Operators>"
   ]
  },
  {
   "cell_type": "markdown",
   "metadata": {
    "slideshow": {
     "slide_type": "subslide"
    }
   },
   "source": [
    "## Constants we can use in Tableau\n",
    "\n",
    "- Numeric literals are written as numbers\n",
    "- String literals are written with quotation marks `\"\"`\n",
    "- Date literals are written with the `#` symbol\n",
    "- Boolean literals are written as either `true` or `false`\n",
    "- Null literals are written as `null`\n",
    "\n",
    "Source: <https://help.tableau.com/current/pro/desktop/en-us/functions_operators.htm#literals>"
   ]
  },
  {
   "cell_type": "markdown",
   "metadata": {
    "slideshow": {
     "slide_type": "subslide"
    }
   },
   "source": [
    "## That's all for today, stay healthy and safe :)"
   ]
  }
 ],
 "metadata": {
  "celltoolbar": "Slideshow",
  "kernelspec": {
   "display_name": "Python 3",
   "language": "python",
   "name": "python3"
  },
  "language_info": {
   "codemirror_mode": {
    "name": "ipython",
    "version": 3
   },
   "file_extension": ".py",
   "mimetype": "text/x-python",
   "name": "python",
   "nbconvert_exporter": "python",
   "pygments_lexer": "ipython3",
   "version": "3.7.5"
  }
 },
 "nbformat": 4,
 "nbformat_minor": 4
}
