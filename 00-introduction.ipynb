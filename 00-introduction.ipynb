{
 "cells": [
  {
   "cell_type": "markdown",
   "metadata": {
    "slideshow": {
     "slide_type": "slide"
    }
   },
   "source": [
    "# Programming and Business Analytics\n",
    "\n",
    "> Introduction\n",
    "\n",
    "Kuo, Yao-Jen from [DATAINPOINT](https://www.datainpoint.com/)"
   ]
  },
  {
   "cell_type": "code",
   "execution_count": 1,
   "metadata": {
    "slideshow": {
     "slide_type": "skip"
    }
   },
   "outputs": [],
   "source": [
    "import numpy as np\n",
    "import matplotlib.pyplot as plt\n",
    "import pandas as pd\n",
    "\n",
    "%matplotlib inline"
   ]
  },
  {
   "cell_type": "markdown",
   "metadata": {
    "slideshow": {
     "slide_type": "subslide"
    }
   },
   "source": [
    "## TL; DR\n",
    "\n",
    "> In this lecture, we will walk through the \"what and why\" about programming and business analytics. Moreoever, a brief introduction to the programming language we will cover in the coming courses: Python."
   ]
  },
  {
   "cell_type": "markdown",
   "metadata": {
    "slideshow": {
     "slide_type": "slide"
    }
   },
   "source": [
    "## What is programming and business analytics"
   ]
  },
  {
   "cell_type": "markdown",
   "metadata": {
    "slideshow": {
     "slide_type": "subslide"
    }
   },
   "source": [
    "## This is just a fancy word for modern data science in order to confuse you."
   ]
  },
  {
   "cell_type": "markdown",
   "metadata": {
    "slideshow": {
     "slide_type": "subslide"
    }
   },
   "source": [
    "## So what is modern data science?"
   ]
  },
  {
   "cell_type": "markdown",
   "metadata": {
    "slideshow": {
     "slide_type": "subslide"
    }
   },
   "source": [
    "> Modern data science is a huge field, it invovles applications and tools like importing, tidying, transformation, visualization, modeling, and communication. Surrounding all these is programming.\n",
    "\n",
    "![Imgur](https://i.imgur.com/din6Ig6.png)\n",
    "\n",
    "Source: [R for Data Science](https://r4ds.had.co.nz/)"
   ]
  },
  {
   "cell_type": "markdown",
   "metadata": {
    "slideshow": {
     "slide_type": "subslide"
    }
   },
   "source": [
    "## The sarcastic ones\n",
    "\n",
    "![Imgur](https://i.imgur.com/vbczHMF.jpg)\n",
    "\n",
    "Source: <https://twitter.com/cdixon/status/428914681911070720/photo/1>"
   ]
  },
  {
   "cell_type": "markdown",
   "metadata": {
    "slideshow": {
     "slide_type": "subslide"
    }
   },
   "source": [
    "## The more serious ones\n",
    "\n",
    "![Imgur](https://i.imgur.com/6u4tw97.png)\n",
    "\n",
    "Source: <http://drewconway.com/>"
   ]
  },
  {
   "cell_type": "markdown",
   "metadata": {
    "slideshow": {
     "slide_type": "subslide"
    }
   },
   "source": [
    "## Well, even \"modern data science\" itsel is a fancy word for...statistical analysis and data reconfiguration."
   ]
  },
  {
   "cell_type": "markdown",
   "metadata": {
    "slideshow": {
     "slide_type": "subslide"
    }
   },
   "source": [
    "## Meet my favorite character in TV show: Chandler Bing\n",
    "\n",
    "![](https://media.giphy.com/media/fA81FF4mdE6lgeoJwb/giphy.gif)\n",
    "\n",
    "Source: <https://giphy.com>"
   ]
  },
  {
   "cell_type": "markdown",
   "metadata": {
    "slideshow": {
     "slide_type": "subslide"
    }
   },
   "source": [
    "## What is Chandler Bing's job?\n",
    "\n",
    "![Imgur](https://i.imgur.com/DX7bQvS.png?1)\n",
    "\n",
    "Source: <https://www.warnerbros.com/tv/friends/>"
   ]
  },
  {
   "cell_type": "markdown",
   "metadata": {
    "slideshow": {
     "slide_type": "subslide"
    }
   },
   "source": [
    "![Imgur](https://i.imgur.com/QhZ2FDY.png?2)\n",
    "\n",
    "Source: <https://www.warnerbros.com/tv/friends/>"
   ]
  },
  {
   "cell_type": "markdown",
   "metadata": {
    "slideshow": {
     "slide_type": "subslide"
    }
   },
   "source": [
    "![Imgur](https://i.imgur.com/iZwdP9t.png?5)\n",
    "\n",
    "Source: <https://www.warnerbros.com/tv/friends/>"
   ]
  },
  {
   "cell_type": "markdown",
   "metadata": {
    "slideshow": {
     "slide_type": "slide"
    }
   },
   "source": [
    "## Topics we're gonna cover this semester"
   ]
  },
  {
   "cell_type": "markdown",
   "metadata": {
    "slideshow": {
     "slide_type": "subslide"
    }
   },
   "source": [
    "## Python, Python, and Python\n",
    "\n",
    "- Python programming\n",
    "- Data analysis with Python\n",
    "- Practical Python"
   ]
  },
  {
   "cell_type": "markdown",
   "metadata": {
    "slideshow": {
     "slide_type": "subslide"
    }
   },
   "source": [
    "## What is Python\n",
    "\n",
    "> Python is a clear and powerful object-oriented programming language.\n",
    "\n",
    "Source: <https://www.python.org/>"
   ]
  },
  {
   "cell_type": "markdown",
   "metadata": {
    "slideshow": {
     "slide_type": "subslide"
    }
   },
   "source": [
    "## We will use Python to tackle everything in the pipeline\n",
    "\n",
    "![Imgur](https://i.imgur.com/din6Ig6.png)\n",
    "\n",
    "Source: [R for Data Science](https://r4ds.had.co.nz/)"
   ]
  },
  {
   "cell_type": "markdown",
   "metadata": {
    "slideshow": {
     "slide_type": "subslide"
    }
   },
   "source": [
    "## So apparently, we will use tons of Python's mighty features\n",
    "\n",
    "- Built-in functions\n",
    "- Standard libraries\n",
    "- Third-party libraries"
   ]
  },
  {
   "cell_type": "markdown",
   "metadata": {
    "slideshow": {
     "slide_type": "subslide"
    }
   },
   "source": [
    "## Getting ready for programming with Python\n",
    "\n",
    "We are using [JupyterHub](https://jupyter.org/hub), [Binder](https://mybinder.org/) and [Google Colaboratory](https://colab.research.google.com/)."
   ]
  },
  {
   "cell_type": "markdown",
   "metadata": {
    "slideshow": {
     "slide_type": "subslide"
    }
   },
   "source": [
    "## These services are all browser-based and notebook-based, so practically no \"environment\" that you have to setup beforehand."
   ]
  },
  {
   "cell_type": "markdown",
   "metadata": {
    "slideshow": {
     "slide_type": "subslide"
    }
   },
   "source": [
    "## However, you are asked to sign up for these applications\n",
    "\n",
    "- [GitHub](https://github.com/): Our JupyterHub uses GitHub to authenticate users\n",
    "- [Google](https://www.google.com/): Colab uses google accounts\n",
    "- [Discord](https://discord.com/): We use Discord for quick Q&A"
   ]
  },
  {
   "cell_type": "markdown",
   "metadata": {
    "slideshow": {
     "slide_type": "subslide"
    }
   },
   "source": [
    "## Why Python, anyway?\n",
    "\n",
    "- R?\n",
    "- Matlab?\n",
    "- Julia?\n",
    "- SAS?\n",
    "- Scala?\n",
    "- ...etc."
   ]
  },
  {
   "cell_type": "markdown",
   "metadata": {
    "slideshow": {
     "slide_type": "subslide"
    }
   },
   "source": [
    "## Let's explore 3 questions in [2019 Kaggle ML & DS Survey](https://www.kaggle.com/c/kaggle-survey-2019)\n",
    "\n",
    "- Q14: What is the primary tool that you use at work or school to analyze data?\n",
    "- Q18: What programming languages do you use on a regular basis?\n",
    "- Q19: What programming language would you recommend an aspiring data scientist to learn first?"
   ]
  },
  {
   "cell_type": "markdown",
   "metadata": {
    "slideshow": {
     "slide_type": "subslide"
    }
   },
   "source": [
    "## What is [Kaggle](https://kaggle.com/)\n",
    "\n",
    "> A subsidiary of Google, is an online community of data scientists and machine learning practitioners. Kaggle allows users to find and publish data sets, explore and build models in a web-based data-science environment, work with other data scientists and machine learning engineers, and enter competitions to solve data science challenges.\n",
    "\n",
    "Source: <https://en.wikipedia.org/wiki/Kaggle>"
   ]
  },
  {
   "cell_type": "code",
   "execution_count": 2,
   "metadata": {
    "slideshow": {
     "slide_type": "skip"
    }
   },
   "outputs": [],
   "source": [
    "def get_value_ratios(df, col_name):\n",
    "    return df[col_name].value_counts() / df[col_name].value_counts().sum()\n",
    "    \n",
    "def get_checkbox_ratios(df, col_pattern):\n",
    "    channel_names = []\n",
    "    channel_checks = []\n",
    "    for col_name in df.columns:\n",
    "        if (col_pattern in col_name) and ('OTHER_TEXT' not in col_name):\n",
    "            channel_name = df[col_name].value_counts().index\n",
    "            channel_check = df[col_name].value_counts().values\n",
    "            if channel_name.size != 0:\n",
    "                channel_names.append(channel_name[0])\n",
    "                channel_checks.append(channel_check[0])\n",
    "    channel_counts = pd.Series(channel_checks, index=channel_names)\n",
    "    channel_ratios = channel_counts / channel_counts.sum()\n",
    "    channel_ratios_sorted = channel_ratios.sort_values(ascending=False)\n",
    "    return channel_ratios_sorted\n",
    "\n",
    "survey_2019 = pd.read_csv(\"https://kaggle-ml-ds-survey.s3-ap-northeast-1.amazonaws.com/kaggle-survey-2019/multiple_choice_responses.csv\", encoding='ISO-8859-1', skiprows=[1], low_memory=False)\n",
    "da_2019 = survey_2019[survey_2019['Q5'] == 'Data Analyst']"
   ]
  },
  {
   "cell_type": "code",
   "execution_count": 3,
   "metadata": {
    "slideshow": {
     "slide_type": "skip"
    }
   },
   "outputs": [],
   "source": [
    "def plot_ans_14(ans_14_ser):\n",
    "    fig = plt.figure()\n",
    "    ax = plt.axes()\n",
    "    ans_14_ser = ans_14_ser[::-1]\n",
    "    ax.barh(ans_14_ser.index, ans_14_ser.values, color=['c', 'c', 'c', 'c', 'c', 'r'])\n",
    "    ax.set_title(\"What is the primary tool that you use at work or school to analyze data?\")\n",
    "    ax.set_xticks([0, 0.1, 0.2, 0.3, 0.4, 0.5])\n",
    "    ax.set_xticklabels(['0%', '10%', '20%', '30%', '40%', '50%'])\n",
    "    ax.spines['top'].set_visible(False)\n",
    "    ax.spines['right'].set_visible(False)\n",
    "    ax.spines['bottom'].set_visible(False)\n",
    "    plt.show()\n",
    "\n",
    "def get_ax(ans_ser, plot_title, ax):\n",
    "    ax = ax\n",
    "    ans_ser = ans_ser[:10][::-1]\n",
    "    ax.barh(ans_ser.index, ans_ser.values, color=['c', 'c', 'c', 'c', 'c', 'c', 'c', 'c', 'c', 'r'])\n",
    "    ax.spines['top'].set_visible(False)\n",
    "    ax.spines['right'].set_visible(False)\n",
    "    ax.spines['bottom'].set_visible(False)\n",
    "    ax.set_title(plot_title)\n",
    "    \n",
    "def plot_ans_18_19(ans_18_ser, ans_19_ser):\n",
    "    fig, (ax1, ax2) = plt.subplots(1, 2, figsize=(14, 4))\n",
    "    get_ax(ans_18_ser, \"What programming languages do you use on a regular basis?\", ax1)\n",
    "    get_ax(ans_19_ser, \"What programming language would you recommend \\n an aspiring data scientist to learn first?\", ax2)\n",
    "    plt.tight_layout()\n",
    "    plt.show()\n",
    "\n",
    "ans_14 = get_value_ratios(da_2019, 'Q14')\n",
    "ans_18 = get_checkbox_ratios(da_2019, 'Q18')\n",
    "ans_19 = get_value_ratios(da_2019, 'Q19')"
   ]
  },
  {
   "cell_type": "code",
   "execution_count": 4,
   "metadata": {
    "slideshow": {
     "slide_type": "subslide"
    }
   },
   "outputs": [
    {
     "data": {
      "image/png": "[encoded data removed]",
      "text/plain": [
       "<Figure size 432x288 with 1 Axes>"
      ]
     },
     "metadata": {
      "needs_background": "light"
     },
     "output_type": "display_data"
    }
   ],
   "source": [
    "# What is the primary tool that you use at work or school to analyze data?\n",
    "plot_ans_14(ans_14)"
   ]
  },
  {
   "cell_type": "code",
   "execution_count": 5,
   "metadata": {
    "scrolled": true,
    "slideshow": {
     "slide_type": "subslide"
    }
   },
   "outputs": [
    {
     "data": {
      "image/png": "[encoded data removed]",
      "text/plain": [
       "<Figure size 1008x288 with 2 Axes>"
      ]
     },
     "metadata": {
      "needs_background": "light"
     },
     "output_type": "display_data"
    }
   ],
   "source": [
    "# What programming languages do you use on a regular basis?\n",
    "# What programming language would you recommend an aspiring data scientist to learn first?\n",
    "plot_ans_18_19(ans_18, ans_19)"
   ]
  },
  {
   "cell_type": "markdown",
   "metadata": {
    "slideshow": {
     "slide_type": "subslide"
    }
   },
   "source": [
    "## The plots speak loud and clear."
   ]
  }
 ],
 "metadata": {
  "celltoolbar": "Slideshow",
  "kernelspec": {
   "display_name": "Python Machine Learning",
   "language": "python",
   "name": "pyml"
  },
  "language_info": {
   "codemirror_mode": {
    "name": "ipython",
    "version": 3
   },
   "file_extension": ".py",
   "mimetype": "text/x-python",
   "name": "python",
   "nbconvert_exporter": "python",
   "pygments_lexer": "ipython3",
   "version": "3.6.8"
  }
 },
 "nbformat": 4,
 "nbformat_minor": 2
}
