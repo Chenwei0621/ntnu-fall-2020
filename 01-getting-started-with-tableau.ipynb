{
 "cells": [
  {
   "cell_type": "markdown",
   "metadata": {
    "slideshow": {
     "slide_type": "slide"
    }
   },
   "source": [
    "# Data Visualization with Modern Data Science\n",
    "\n",
    "> Getting Started with Tableau\n",
    "\n",
    "Kuo, Yao-Jen"
   ]
  },
  {
   "cell_type": "markdown",
   "metadata": {
    "slideshow": {
     "slide_type": "subslide"
    }
   },
   "source": [
    "## TL; DR\n",
    "\n",
    "> In this lecture, we start getting familiar with Tableau. We will create five worksheets using a simplified version of `Gapminder` and gather them into a dashboard.\n",
    "\n",
    "![Imgur](https://i.imgur.com/BWsyg6f.png?1)"
   ]
  },
  {
   "cell_type": "markdown",
   "metadata": {
    "slideshow": {
     "slide_type": "slide"
    }
   },
   "source": [
    "## Getting Tableau Desktop"
   ]
  },
  {
   "cell_type": "markdown",
   "metadata": {
    "slideshow": {
     "slide_type": "subslide"
    }
   },
   "source": [
    "## Tableau Desktop can be easily set up throught step 123\n",
    "\n",
    "1. Download\n",
    "2. Install\n",
    "3. Activate"
   ]
  },
  {
   "cell_type": "markdown",
   "metadata": {
    "slideshow": {
     "slide_type": "subslide"
    }
   },
   "source": [
    "## Download Tableau Desktop from <https://www.tableau.com/tft/activation>"
   ]
  },
  {
   "cell_type": "markdown",
   "metadata": {
    "slideshow": {
     "slide_type": "subslide"
    }
   },
   "source": [
    "## Install Tableau Desktop by...clicking"
   ]
  },
  {
   "cell_type": "markdown",
   "metadata": {
    "slideshow": {
     "slide_type": "subslide"
    }
   },
   "source": [
    "## Activate with product key\n",
    "\n",
    "![Imgur](https://i.imgur.com/4MpR5uX.png?1)"
   ]
  },
  {
   "cell_type": "markdown",
   "metadata": {
    "slideshow": {
     "slide_type": "subslide"
    }
   },
   "source": [
    "## Your student license has been sent to your @ntu.edu.tw email\n",
    "\n",
    "![Imgur](https://i.imgur.com/aFCvARg.png?1)"
   ]
  },
  {
   "cell_type": "markdown",
   "metadata": {
    "slideshow": {
     "slide_type": "subslide"
    }
   },
   "source": [
    "## Register using your @ntu.edu.tw email\n",
    "\n",
    "![Imgur](https://i.imgur.com/tnZMGVQ.png?1)"
   ]
  },
  {
   "cell_type": "markdown",
   "metadata": {
    "slideshow": {
     "slide_type": "subslide"
    }
   },
   "source": [
    "## Now we are all set!\n",
    "\n",
    "![Imgur](https://i.imgur.com/j7Uy0Ui.png?1)"
   ]
  },
  {
   "cell_type": "markdown",
   "metadata": {
    "slideshow": {
     "slide_type": "subslide"
    }
   },
   "source": [
    "## Looking at the Tableau Start page\n",
    "\n",
    "- Connect\n",
    "- Open\n",
    "- Discover"
   ]
  },
  {
   "cell_type": "markdown",
   "metadata": {
    "slideshow": {
     "slide_type": "subslide"
    }
   },
   "source": [
    "## Tableau Start page:  Connect\n",
    "\n",
    "- You use this section when you want to start a new data connection in your Tableau workbook\n",
    "- Tableau Desktop has two editions\n",
    "    - Tableau Desktop Personal Edition is for connections to file‐based data sources like Excel and Microsoft Access\n",
    "    - Tableau Desktop Professional Edition allows you to go beyond the files and additionally connect to databases hosted on servers"
   ]
  },
  {
   "cell_type": "markdown",
   "metadata": {
    "slideshow": {
     "slide_type": "subslide"
    }
   },
   "source": [
    "## Tap Tableau > About for your edition information\n",
    "\n",
    "![Imgur](https://i.imgur.com/bSwUmON.png?1)"
   ]
  },
  {
   "cell_type": "markdown",
   "metadata": {
    "slideshow": {
     "slide_type": "subslide"
    }
   },
   "source": [
    "## Tableau Start page:  Open\n",
    "\n",
    "You use this section to open and continue working on an existing Tableau workbook. The existing workbook can be one that you’ve created or one of the samples that Tableau Software provides for training purposes."
   ]
  },
  {
   "cell_type": "markdown",
   "metadata": {
    "slideshow": {
     "slide_type": "subslide"
    }
   },
   "source": [
    "## Tableau Start page:  Discover\n",
    "\n",
    "This section gives you easy access to training resources as well as news about Tableau."
   ]
  },
  {
   "cell_type": "markdown",
   "metadata": {
    "slideshow": {
     "slide_type": "slide"
    }
   },
   "source": [
    "## Creating Your First Visualization"
   ]
  },
  {
   "cell_type": "markdown",
   "metadata": {
    "slideshow": {
     "slide_type": "subslide"
    }
   },
   "source": [
    "## Visualization requires data\n",
    "\n",
    "Let's get a simplified version of gapminder data.\n",
    "\n",
    "[Right click to download](https://python4ds.s3-ap-northeast-1.amazonaws.com/gapminder.csv)"
   ]
  },
  {
   "cell_type": "markdown",
   "metadata": {
    "slideshow": {
     "slide_type": "subslide"
    }
   },
   "source": [
    "## In case you forget what gapminder is...\n",
    "\n",
    "- [Hans Rosling's 200 Countries, 200 Years, 4 Minutes](https://youtu.be/jbkSRLYSojo)\n",
    "- <https://www.gapminder.org/>\n",
    "- [Factfulness: Ten Reasons We’re Wrong About the World - and Why Things Are Better Than You Think](https://www.books.com.tw/products/F014082044)"
   ]
  },
  {
   "cell_type": "markdown",
   "metadata": {
    "slideshow": {
     "slide_type": "subslide"
    }
   },
   "source": [
    "## Download a text editor to preview your text file data\n",
    "\n",
    "[Download Visual Studio Code](https://code.visualstudio.com/)"
   ]
  },
  {
   "cell_type": "markdown",
   "metadata": {
    "slideshow": {
     "slide_type": "subslide"
    }
   },
   "source": [
    "## Use Visual Studio Code to open `gapminder.csv`\n",
    "\n",
    "![Imgur](https://i.imgur.com/buB4VpY.png?1)"
   ]
  },
  {
   "cell_type": "markdown",
   "metadata": {
    "slideshow": {
     "slide_type": "subslide"
    }
   },
   "source": [
    "## Install `Rainbow CSV` extension for a prettier view\n",
    "\n",
    "![Imgur](https://i.imgur.com/jWaeRBB.png?1)"
   ]
  },
  {
   "cell_type": "markdown",
   "metadata": {
    "slideshow": {
     "slide_type": "subslide"
    }
   },
   "source": [
    "## Connecting to `gapminder.csv` in Tableau\n",
    "\n",
    "Tableau Start page > Connect > To a File > Text file > `gapminder.csv`"
   ]
  },
  {
   "cell_type": "markdown",
   "metadata": {
    "slideshow": {
     "slide_type": "subslide"
    }
   },
   "source": [
    "## Understanding the Data Source page\n",
    "\n",
    "![Imgur](https://i.imgur.com/QRMe34n.png?1)"
   ]
  },
  {
   "cell_type": "markdown",
   "metadata": {
    "slideshow": {
     "slide_type": "subslide"
    }
   },
   "source": [
    "## Understanding data types\n",
    "\n",
    "If you take a close look at the fields that appear in the Data pane, you’ll notice that each of them has an icon to the left of the field name that indicates the type of data that’s contained in the field."
   ]
  },
  {
   "cell_type": "markdown",
   "metadata": {
    "slideshow": {
     "slide_type": "subslide"
    }
   },
   "source": [
    "## Primary data types in Tableau\n",
    "\n",
    "- Number(decimal)\n",
    "- Number(whole)\n",
    "- Date & Time\n",
    "- Date\n",
    "- String\n",
    "- Boolean"
   ]
  },
  {
   "cell_type": "markdown",
   "metadata": {
    "slideshow": {
     "slide_type": "subslide"
    }
   },
   "source": [
    "## Adding filters\n",
    "\n",
    "If you don’t need to base your analysis on the entire data set, you can add a filter to the extract so that Tableau can use the specified subset of the data (which may also improve performance).\n",
    "\n",
    "![Imgur](https://i.imgur.com/TeR5Q2A.png?2)"
   ]
  },
  {
   "cell_type": "markdown",
   "metadata": {
    "slideshow": {
     "slide_type": "subslide"
    }
   },
   "source": [
    "## Adding a filter on `Country` field\n",
    "\n",
    "![Imgur](https://i.imgur.com/TM8Fl14.png?1)"
   ]
  },
  {
   "cell_type": "markdown",
   "metadata": {
    "slideshow": {
     "slide_type": "subslide"
    }
   },
   "source": [
    "## Displaying data of Taiwan\n",
    "\n",
    "![Imgur](https://i.imgur.com/e1XIbt3.png?1)"
   ]
  },
  {
   "cell_type": "markdown",
   "metadata": {
    "slideshow": {
     "slide_type": "subslide"
    }
   },
   "source": [
    "## Adding a filter on `Year` field\n",
    "\n",
    "![Imgur](https://i.imgur.com/BzfvDZ0.png?1)"
   ]
  },
  {
   "cell_type": "markdown",
   "metadata": {
    "slideshow": {
     "slide_type": "subslide"
    }
   },
   "source": [
    "## Displaying data in 2007\n",
    "\n",
    "![Imgur](https://i.imgur.com/C8BLKa3.png?1)"
   ]
  },
  {
   "cell_type": "markdown",
   "metadata": {
    "slideshow": {
     "slide_type": "subslide"
    }
   },
   "source": [
    "## Removing all filters as we use the entire data with a shape of `1704 x 6`\n",
    "\n",
    "![Imgur](https://i.imgur.com/9uxvGmQ.png)"
   ]
  },
  {
   "cell_type": "markdown",
   "metadata": {
    "slideshow": {
     "slide_type": "subslide"
    }
   },
   "source": [
    "## Understanding Worksheets\n",
    "\n",
    "![Imgur](https://i.imgur.com/Lsfhpsi.png?1)"
   ]
  },
  {
   "cell_type": "markdown",
   "metadata": {
    "slideshow": {
     "slide_type": "subslide"
    }
   },
   "source": [
    "## What is a Tableau Worksheet, anyway?\n",
    "\n",
    "Worksheet is the place where you create the visualizations that you’ll use in dashboards and stories."
   ]
  },
  {
   "cell_type": "markdown",
   "metadata": {
    "slideshow": {
     "slide_type": "subslide"
    }
   },
   "source": [
    "## A big picture of our fields\n",
    "\n",
    "1. Dimensions: categorical, discrete\n",
    "2. Measures: numerical, continuous"
   ]
  },
  {
   "cell_type": "markdown",
   "metadata": {
    "slideshow": {
     "slide_type": "subslide"
    }
   },
   "source": [
    "## Each of them has an icon to the left of the field name that indicates the type of data that’s contained in the field."
   ]
  },
  {
   "cell_type": "markdown",
   "metadata": {
    "slideshow": {
     "slide_type": "subslide"
    }
   },
   "source": [
    "## It's time to create our very first visualization...finally\n",
    "\n",
    "Dragging and dropping fields onto either **Columns** or **Rows** controls chart type."
   ]
  },
  {
   "cell_type": "markdown",
   "metadata": {
    "slideshow": {
     "slide_type": "subslide"
    }
   },
   "source": [
    "## Off the record: Tableau pronounces Rows as y-axis, Columns as x-axis\n",
    "\n",
    "![](https://media.giphy.com/media/xL7PDV9frcudO/giphy.gif)\n",
    "\n",
    "Source: <https://giphy.com/>"
   ]
  },
  {
   "cell_type": "markdown",
   "metadata": {
    "slideshow": {
     "slide_type": "subslide"
    }
   },
   "source": [
    "## Creating a scatter plot to explore correlations\n",
    "\n",
    "1. Dragging and dropping `Life Exp` onto Rows\n",
    "2. Dragging and dropping `Gdp Percap` onto Columns"
   ]
  },
  {
   "cell_type": "markdown",
   "metadata": {
    "slideshow": {
     "slide_type": "subslide"
    }
   },
   "source": [
    "## Tableau uses `SUM()` function as default measurement\n",
    "\n",
    "![Imgur](https://i.imgur.com/tnalNF0.png?1)"
   ]
  },
  {
   "cell_type": "markdown",
   "metadata": {
    "slideshow": {
     "slide_type": "subslide"
    }
   },
   "source": [
    "## Replacing Measure with Dimension\n",
    "\n",
    "![Imgur](https://i.imgur.com/n2v4mgo.png?1)"
   ]
  },
  {
   "cell_type": "markdown",
   "metadata": {
    "slideshow": {
     "slide_type": "subslide"
    }
   },
   "source": [
    "## Dragging `Continent` onto Color\n",
    "\n",
    "![Imgur](https://i.imgur.com/XEqBAHn.png?1)"
   ]
  },
  {
   "cell_type": "markdown",
   "metadata": {
    "slideshow": {
     "slide_type": "subslide"
    }
   },
   "source": [
    "## Dragging `Pop` onto Size\n",
    "\n",
    "![Imgur](https://i.imgur.com/AVjX8Uq.png?1)"
   ]
  },
  {
   "cell_type": "markdown",
   "metadata": {
    "slideshow": {
     "slide_type": "subslide"
    }
   },
   "source": [
    "## Dragging `Country` onto Label\n",
    "\n",
    "![Imgur](https://i.imgur.com/kSiyPCD.png?1)"
   ]
  },
  {
   "cell_type": "markdown",
   "metadata": {
    "slideshow": {
     "slide_type": "subslide"
    }
   },
   "source": [
    "## Dragging `Year` onto `Page`\n",
    "\n",
    "![Imgur](https://i.imgur.com/pnBqvMP.png?1)"
   ]
  },
  {
   "cell_type": "markdown",
   "metadata": {
    "slideshow": {
     "slide_type": "subslide"
    }
   },
   "source": [
    "## Do a log transform on `Gdp Percap`\n",
    "\n",
    "![Imgur](https://i.imgur.com/mMAlWEu.png)"
   ]
  },
  {
   "cell_type": "markdown",
   "metadata": {
    "slideshow": {
     "slide_type": "subslide"
    }
   },
   "source": [
    "## Using `LOG()` function making our `Gdp Percap` less skewed\n",
    "\n",
    "![Imgur](https://i.imgur.com/NIeq2Rl.png)"
   ]
  },
  {
   "cell_type": "markdown",
   "metadata": {
    "slideshow": {
     "slide_type": "subslide"
    }
   },
   "source": [
    "## Replacing `Gdp Percap` with `Gdp Percap Log`\n",
    "\n",
    "![Imgur](https://i.imgur.com/VS8Xc5d.png?1)"
   ]
  },
  {
   "cell_type": "markdown",
   "metadata": {
    "slideshow": {
     "slide_type": "subslide"
    }
   },
   "source": [
    "## We can also Edit Axis for log transformation\n",
    "\n",
    "![Imgur](https://i.imgur.com/ywFDC0t.png?1)"
   ]
  },
  {
   "cell_type": "markdown",
   "metadata": {
    "slideshow": {
     "slide_type": "subslide"
    }
   },
   "source": [
    "## Done with our very first Tableau visualization!\n",
    "\n",
    "![](https://media.giphy.com/media/Gf3fU0qPtI6uk/giphy.gif)\n",
    "\n",
    "Source: <https://giphy.com/>"
   ]
  },
  {
   "cell_type": "markdown",
   "metadata": {
    "slideshow": {
     "slide_type": "slide"
    }
   },
   "source": [
    "## Creating Basic Plots with Tableau"
   ]
  },
  {
   "cell_type": "markdown",
   "metadata": {
    "slideshow": {
     "slide_type": "subslide"
    }
   },
   "source": [
    "## Each plot has its own purpose\n",
    "\n",
    "- To explore correlations\n",
    "- To explore distributions\n",
    "- To explore rankings\n",
    "- To explore trends\n",
    "- To explore distributions based on categories"
   ]
  },
  {
   "cell_type": "markdown",
   "metadata": {
    "slideshow": {
     "slide_type": "subslide"
    }
   },
   "source": [
    "## Using scatter to explore correlations\n",
    "\n",
    "We've already done it in the previous section."
   ]
  },
  {
   "cell_type": "markdown",
   "metadata": {
    "slideshow": {
     "slide_type": "subslide"
    }
   },
   "source": [
    "## Using histogram to explore distributions\n",
    "\n",
    "- Create another worksheet\n",
    "- Dragging `Gdp Percap` onto Columns\n",
    "- Click Show Me then click **histogram**"
   ]
  },
  {
   "cell_type": "markdown",
   "metadata": {
    "slideshow": {
     "slide_type": "subslide"
    }
   },
   "source": [
    "## Done with a simple histogram\n",
    "\n",
    "![Imgur](https://i.imgur.com/twzDmsP.png?1)"
   ]
  },
  {
   "cell_type": "markdown",
   "metadata": {
    "slideshow": {
     "slide_type": "subslide"
    }
   },
   "source": [
    "## Using bar to explore rankings\n",
    "\n",
    "- Create another worksheet\n",
    "- Dragging `Continent` onto Columns\n",
    "- Dragging `Country` onto Rows\n",
    "- Transforming the Measure of `Country` to `Count (Distinct)`\n",
    "- Swap Rows and Columns\n",
    "- Sort with descending order"
   ]
  },
  {
   "cell_type": "markdown",
   "metadata": {
    "slideshow": {
     "slide_type": "subslide"
    }
   },
   "source": [
    "## Done with a simple horizontal bar!\n",
    "\n",
    "![Imgur](https://i.imgur.com/Rf9Wcq7.png)"
   ]
  },
  {
   "cell_type": "markdown",
   "metadata": {
    "slideshow": {
     "slide_type": "subslide"
    }
   },
   "source": [
    "## Using line to explore trends\n",
    "\n",
    "- Create another worksheet\n",
    "- Change `Year` data type to `Date`\n",
    "- Dragging `Year` onto Columns\n",
    "- Dragging `Life Exp` onto Rows\n",
    "- Transforming the Measure of `Life Exp` to `Average`\n",
    "- Dragging `Continent` to Color"
   ]
  },
  {
   "cell_type": "markdown",
   "metadata": {
    "slideshow": {
     "slide_type": "subslide"
    }
   },
   "source": [
    "## Done with a simple line!\n",
    "\n",
    "![Imgur](https://i.imgur.com/TSUEf3E.png?1)"
   ]
  },
  {
   "cell_type": "markdown",
   "metadata": {
    "slideshow": {
     "slide_type": "subslide"
    }
   },
   "source": [
    "## Using box to explore distributions based on categories\n",
    "\n",
    "- Create another worksheet\n",
    "- Dragging `Continent` onto Columns\n",
    "- Dragging `Gdp Percap` onto Rows\n",
    "- Replacing Measure with Dimension\n",
    "- Swap Rows and Columns"
   ]
  },
  {
   "cell_type": "markdown",
   "metadata": {
    "slideshow": {
     "slide_type": "subslide"
    }
   },
   "source": [
    "## Done with a simple box!\n",
    "\n",
    "![Imgur](https://i.imgur.com/yED8jU3.png)"
   ]
  },
  {
   "cell_type": "markdown",
   "metadata": {
    "slideshow": {
     "slide_type": "subslide"
    }
   },
   "source": [
    "## Understanding Dashboard\n",
    "\n",
    "Bringing different worksheets onto a dashboard allows viewers to see multiple visualizations at once."
   ]
  },
  {
   "cell_type": "markdown",
   "metadata": {
    "slideshow": {
     "slide_type": "subslide"
    }
   },
   "source": [
    "## Gathering 5 worksheets into a dashboard\n",
    "\n",
    "- Create a new dashboard\n",
    "- Dragging 5 sheets into it"
   ]
  },
  {
   "cell_type": "markdown",
   "metadata": {
    "slideshow": {
     "slide_type": "subslide"
    }
   },
   "source": [
    "## Done with a simple dashboard!\n",
    "\n",
    "\n",
    "![Imgur](https://i.imgur.com/BWsyg6f.png?1)"
   ]
  },
  {
   "cell_type": "markdown",
   "metadata": {
    "slideshow": {
     "slide_type": "subslide"
    }
   },
   "source": [
    "## That's all for today's class, stay healthy and safe."
   ]
  }
 ],
 "metadata": {
  "celltoolbar": "Slideshow",
  "kernelspec": {
   "display_name": "Python 3",
   "language": "python",
   "name": "python3"
  },
  "language_info": {
   "codemirror_mode": {
    "name": "ipython",
    "version": 3
   },
   "file_extension": ".py",
   "mimetype": "text/x-python",
   "name": "python",
   "nbconvert_exporter": "python",
   "pygments_lexer": "ipython3",
   "version": "3.7.5"
  }
 },
 "nbformat": 4,
 "nbformat_minor": 4
}
